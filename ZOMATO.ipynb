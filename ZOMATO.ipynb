{
 "cells": [
  {
   "cell_type": "markdown",
   "id": "22b70b69",
   "metadata": {},
   "source": [
    " # MINI PROJECT - ZOMATO \n",
    " \n",
    " \n",
    " "
   ]
  },
  {
   "cell_type": "markdown",
   "id": "2654dc07",
   "metadata": {},
   "source": [
    "### DATASET DESCRIPTION"
   ]
  },
  {
   "cell_type": "markdown",
   "id": "12ef1310",
   "metadata": {},
   "source": [
    "Zomato is an Indian multinational restaurant aggregator and food delivery company founded by Deepinder Goyal and Pankaj Chaddah in 2008. Zomato provides information, menus, and user reviews of restaurants as well as food delivery options from partner restaurants in select cities."
   ]
  },
  {
   "cell_type": "markdown",
   "id": "8ddf8afc",
   "metadata": {},
   "source": [
    "### DATA DICTIONARY"
   ]
  },
  {
   "cell_type": "markdown",
   "id": "e6ba9bc9",
   "metadata": {},
   "source": [
    "• Restaurant Id: Unique id of every restaurant across various cities of the world\n",
    "\n",
    "• Restaurant Name: Name of the restaurant\n",
    "\n",
    "• Country Code: Country in which restaurant is located\n",
    "\n",
    "• City: City in which the restaurant is located\n",
    "\n",
    "• Address: Address of the restaurant\n",
    "\n",
    "• Locality: Location in the city\n",
    "\n",
    "• Locality Verbose: Detailed description of the locality\n",
    "\n",
    "• Longitude: Longitude coordinate of the restaurant's location\n",
    "\n",
    "• Latitude: Latitude coordinate of the restaurant's location\n",
    "\n",
    "• Cuisines: Cuisines offered by the restaurant\n",
    "\n",
    "• Average Cost for two: Cost for two people in different currencies \n",
    "\n",
    "• Currency: Currency of the country\n",
    "\n",
    "• Has Table booking: yes/no\n",
    "\n",
    "• Has Online delivery: yes/ no\n",
    "\n",
    "• Is delivering: yes/ no\n",
    "\n",
    "• Switch to order menu: yes/no\n",
    "• Price range: range of price of food\n",
    "\n",
    "• Aggregate Rating: Average rating out of 5\n",
    "\n",
    "• Rating color: depending upon the average rating color\n",
    "\n",
    "• Rating text: text on the basis of rating of rating\n",
    "\n",
    "• Votes: Number of ratings cast by people\n"
   ]
  },
  {
   "cell_type": "markdown",
   "id": "fad78d48",
   "metadata": {},
   "source": [
    "#### 1. Import libraries that you required and Load the data set."
   ]
  },
  {
   "cell_type": "code",
   "execution_count": 2,
   "id": "eb5fa5e2",
   "metadata": {},
   "outputs": [],
   "source": [
    "import pandas as pd\n",
    "import numpy as np\n",
    "import matplotlib.pyplot as plt\n",
    "import warnings\n",
    "warnings.filterwarnings(action = 'ignore')\n",
    "import seaborn as sns"
   ]
  },
  {
   "cell_type": "code",
   "execution_count": 25,
   "id": "aa8509ff",
   "metadata": {},
   "outputs": [
    {
     "data": {
      "text/html": [
       "<div>\n",
       "<style scoped>\n",
       "    .dataframe tbody tr th:only-of-type {\n",
       "        vertical-align: middle;\n",
       "    }\n",
       "\n",
       "    .dataframe tbody tr th {\n",
       "        vertical-align: top;\n",
       "    }\n",
       "\n",
       "    .dataframe thead th {\n",
       "        text-align: right;\n",
       "    }\n",
       "</style>\n",
       "<table border=\"1\" class=\"dataframe\">\n",
       "  <thead>\n",
       "    <tr style=\"text-align: right;\">\n",
       "      <th></th>\n",
       "      <th>Unnamed: 0</th>\n",
       "      <th>url</th>\n",
       "      <th>address</th>\n",
       "      <th>name</th>\n",
       "      <th>online_order</th>\n",
       "      <th>book_table</th>\n",
       "      <th>rate</th>\n",
       "      <th>votes</th>\n",
       "      <th>phone</th>\n",
       "      <th>location</th>\n",
       "      <th>rest_type</th>\n",
       "      <th>dish_liked</th>\n",
       "      <th>cuisines</th>\n",
       "      <th>approx_cost(for two people)</th>\n",
       "      <th>reviews_list</th>\n",
       "      <th>menu_item</th>\n",
       "      <th>listed_in(type)</th>\n",
       "      <th>listed_in(city)</th>\n",
       "    </tr>\n",
       "  </thead>\n",
       "  <tbody>\n",
       "    <tr>\n",
       "      <th>0</th>\n",
       "      <td>14221</td>\n",
       "      <td>https://www.zomato.com/bangalore/shree-ranga-v...</td>\n",
       "      <td>366, Hosur Main Road, Attibele, Anekal Taluk, ...</td>\n",
       "      <td>Shree Ranga Vilas</td>\n",
       "      <td>No</td>\n",
       "      <td>No</td>\n",
       "      <td>3.2/5</td>\n",
       "      <td>7</td>\n",
       "      <td>080 29765044</td>\n",
       "      <td>Electronic City</td>\n",
       "      <td>Casual Dining</td>\n",
       "      <td>NaN</td>\n",
       "      <td>North Indian, South Indian, Chinese, Juices</td>\n",
       "      <td>500</td>\n",
       "      <td>[('Rated 3.0', 'RATED\\n  Typical South Indian ...</td>\n",
       "      <td>[]</td>\n",
       "      <td>Dine-out</td>\n",
       "      <td>Electronic City</td>\n",
       "    </tr>\n",
       "    <tr>\n",
       "      <th>1</th>\n",
       "      <td>43422</td>\n",
       "      <td>https://www.zomato.com/bangalore/sphyre-gatewa...</td>\n",
       "      <td>Gateway Hotel, 66, Residency Road, Bangalore</td>\n",
       "      <td>Sphyre - Gateway Hotel</td>\n",
       "      <td>No</td>\n",
       "      <td>No</td>\n",
       "      <td>3.6 /5</td>\n",
       "      <td>45</td>\n",
       "      <td>+91 9886643495\\n+91 9898780004</td>\n",
       "      <td>Residency Road</td>\n",
       "      <td>Lounge</td>\n",
       "      <td>NaN</td>\n",
       "      <td>Finger Food</td>\n",
       "      <td>1,700</td>\n",
       "      <td>[('Rated 1.0', 'RATED\\n  Expected a good night...</td>\n",
       "      <td>[]</td>\n",
       "      <td>Dine-out</td>\n",
       "      <td>MG Road</td>\n",
       "    </tr>\n",
       "    <tr>\n",
       "      <th>2</th>\n",
       "      <td>16032</td>\n",
       "      <td>https://www.zomato.com/bangalore/popular-baker...</td>\n",
       "      <td>19, BDA Complex, HSR, Bangalore</td>\n",
       "      <td>Popular Bakery</td>\n",
       "      <td>No</td>\n",
       "      <td>No</td>\n",
       "      <td>3.7/5</td>\n",
       "      <td>36</td>\n",
       "      <td>+91 8105834605\\r\\n080 25722488</td>\n",
       "      <td>HSR</td>\n",
       "      <td>Dessert Parlor, Bakery</td>\n",
       "      <td>NaN</td>\n",
       "      <td>Desserts, Bakery</td>\n",
       "      <td>600</td>\n",
       "      <td>[('Rated 5.0', \"RATED\\n  This outlet is in HSR...</td>\n",
       "      <td>[]</td>\n",
       "      <td>Delivery</td>\n",
       "      <td>HSR</td>\n",
       "    </tr>\n",
       "    <tr>\n",
       "      <th>3</th>\n",
       "      <td>51635</td>\n",
       "      <td>https://www.zomato.com/bangalore/thai-chinese-...</td>\n",
       "      <td>7, Anurhh Arcade, Hoodi Road, Kodigehalli Road...</td>\n",
       "      <td>Thai &amp; Chinese Fast Food</td>\n",
       "      <td>No</td>\n",
       "      <td>No</td>\n",
       "      <td>3.4 /5</td>\n",
       "      <td>7</td>\n",
       "      <td>+91 9206260085\\n+91 7619416923</td>\n",
       "      <td>KR Puram</td>\n",
       "      <td>Quick Bites</td>\n",
       "      <td>NaN</td>\n",
       "      <td>Chinese, Thai</td>\n",
       "      <td>400</td>\n",
       "      <td>[('Rated 5.0', 'RATED\\n  Its Looking delicious...</td>\n",
       "      <td>[]</td>\n",
       "      <td>Dine-out</td>\n",
       "      <td>Whitefield</td>\n",
       "    </tr>\n",
       "    <tr>\n",
       "      <th>4</th>\n",
       "      <td>23424</td>\n",
       "      <td>https://www.zomato.com/bangalore/grill-on-whee...</td>\n",
       "      <td>Kothanuru Main Road, Puttenahalli Road, Natara...</td>\n",
       "      <td>Grill On Wheels</td>\n",
       "      <td>No</td>\n",
       "      <td>No</td>\n",
       "      <td>NEW</td>\n",
       "      <td>0</td>\n",
       "      <td>+91 9901979901</td>\n",
       "      <td>JP Nagar</td>\n",
       "      <td>Quick Bites</td>\n",
       "      <td>NaN</td>\n",
       "      <td>North Indian, Chinese, BBQ, Arabian, Fast Food</td>\n",
       "      <td>400</td>\n",
       "      <td>[]</td>\n",
       "      <td>[]</td>\n",
       "      <td>Dine-out</td>\n",
       "      <td>JP Nagar</td>\n",
       "    </tr>\n",
       "  </tbody>\n",
       "</table>\n",
       "</div>"
      ],
      "text/plain": [
       "   Unnamed: 0                                                url  \\\n",
       "0       14221  https://www.zomato.com/bangalore/shree-ranga-v...   \n",
       "1       43422  https://www.zomato.com/bangalore/sphyre-gatewa...   \n",
       "2       16032  https://www.zomato.com/bangalore/popular-baker...   \n",
       "3       51635  https://www.zomato.com/bangalore/thai-chinese-...   \n",
       "4       23424  https://www.zomato.com/bangalore/grill-on-whee...   \n",
       "\n",
       "                                             address  \\\n",
       "0  366, Hosur Main Road, Attibele, Anekal Taluk, ...   \n",
       "1       Gateway Hotel, 66, Residency Road, Bangalore   \n",
       "2                    19, BDA Complex, HSR, Bangalore   \n",
       "3  7, Anurhh Arcade, Hoodi Road, Kodigehalli Road...   \n",
       "4  Kothanuru Main Road, Puttenahalli Road, Natara...   \n",
       "\n",
       "                       name online_order book_table    rate  votes  \\\n",
       "0         Shree Ranga Vilas           No         No   3.2/5      7   \n",
       "1    Sphyre - Gateway Hotel           No         No  3.6 /5     45   \n",
       "2            Popular Bakery           No         No   3.7/5     36   \n",
       "3  Thai & Chinese Fast Food           No         No  3.4 /5      7   \n",
       "4           Grill On Wheels           No         No     NEW      0   \n",
       "\n",
       "                            phone         location               rest_type  \\\n",
       "0                    080 29765044  Electronic City           Casual Dining   \n",
       "1  +91 9886643495\\n+91 9898780004   Residency Road                  Lounge   \n",
       "2  +91 8105834605\\r\\n080 25722488              HSR  Dessert Parlor, Bakery   \n",
       "3  +91 9206260085\\n+91 7619416923         KR Puram             Quick Bites   \n",
       "4                  +91 9901979901         JP Nagar             Quick Bites   \n",
       "\n",
       "  dish_liked                                        cuisines  \\\n",
       "0        NaN     North Indian, South Indian, Chinese, Juices   \n",
       "1        NaN                                     Finger Food   \n",
       "2        NaN                                Desserts, Bakery   \n",
       "3        NaN                                   Chinese, Thai   \n",
       "4        NaN  North Indian, Chinese, BBQ, Arabian, Fast Food   \n",
       "\n",
       "  approx_cost(for two people)  \\\n",
       "0                         500   \n",
       "1                       1,700   \n",
       "2                         600   \n",
       "3                         400   \n",
       "4                         400   \n",
       "\n",
       "                                        reviews_list menu_item  \\\n",
       "0  [('Rated 3.0', 'RATED\\n  Typical South Indian ...        []   \n",
       "1  [('Rated 1.0', 'RATED\\n  Expected a good night...        []   \n",
       "2  [('Rated 5.0', \"RATED\\n  This outlet is in HSR...        []   \n",
       "3  [('Rated 5.0', 'RATED\\n  Its Looking delicious...        []   \n",
       "4                                                 []        []   \n",
       "\n",
       "  listed_in(type)  listed_in(city)  \n",
       "0        Dine-out  Electronic City  \n",
       "1        Dine-out          MG Road  \n",
       "2        Delivery              HSR  \n",
       "3        Dine-out       Whitefield  \n",
       "4        Dine-out         JP Nagar  "
      ]
     },
     "execution_count": 25,
     "metadata": {},
     "output_type": "execute_result"
    }
   ],
   "source": [
    "z = pd.read_csv('Zomoto.CSV')\n",
    "z.head(5)"
   ]
  },
  {
   "cell_type": "code",
   "execution_count": 80,
   "id": "9f9bc18a",
   "metadata": {},
   "outputs": [
    {
     "name": "stdout",
     "output_type": "stream",
     "text": [
      "<class 'pandas.core.frame.DataFrame'>\n",
      "RangeIndex: 10000 entries, 0 to 9999\n",
      "Data columns (total 18 columns):\n",
      " #   Column                       Non-Null Count  Dtype \n",
      "---  ------                       --------------  ----- \n",
      " 0   Unnamed: 0                   10000 non-null  int64 \n",
      " 1   url                          10000 non-null  object\n",
      " 2   address                      10000 non-null  object\n",
      " 3   name                         10000 non-null  object\n",
      " 4   online_order                 10000 non-null  object\n",
      " 5   book_table                   10000 non-null  object\n",
      " 6   rate                         8528 non-null   object\n",
      " 7   votes                        10000 non-null  int64 \n",
      " 8   phone                        9764 non-null   object\n",
      " 9   location                     9997 non-null   object\n",
      " 10  rest_type                    9953 non-null   object\n",
      " 11  dish_liked                   4642 non-null   object\n",
      " 12  cuisines                     9995 non-null   object\n",
      " 13  approx_cost(for two people)  9941 non-null   object\n",
      " 14  reviews_list                 10000 non-null  object\n",
      " 15  menu_item                    10000 non-null  object\n",
      " 16  listed_in(type)              10000 non-null  object\n",
      " 17  listed_in(city)              10000 non-null  object\n",
      "dtypes: int64(2), object(16)\n",
      "memory usage: 1.4+ MB\n"
     ]
    }
   ],
   "source": [
    "z.info()"
   ]
  },
  {
   "cell_type": "markdown",
   "id": "5cc976f6",
   "metadata": {},
   "source": [
    "#### 2. Which are the top restaurant chains based on the distribution(frequency) in Bangaluru?"
   ]
  },
  {
   "cell_type": "code",
   "execution_count": 20,
   "id": "e2fd8f85",
   "metadata": {},
   "outputs": [
    {
     "data": {
      "text/plain": [
       "Cafe Coffee Day              18\n",
       "Keventers                    17\n",
       "Onesta                       17\n",
       "McDonald's                   16\n",
       "SGS Non Veg - Gundu Pulav    16\n",
       "Name: name, dtype: int64"
      ]
     },
     "execution_count": 20,
     "metadata": {},
     "output_type": "execute_result"
    }
   ],
   "source": [
    "z['name'].value_counts(ascending = False).head(5)"
   ]
  },
  {
   "cell_type": "code",
   "execution_count": 47,
   "id": "b5826265",
   "metadata": {},
   "outputs": [
    {
     "data": {
      "text/plain": [
       "<AxesSubplot:ylabel='name'>"
      ]
     },
     "execution_count": 47,
     "metadata": {},
     "output_type": "execute_result"
    },
    {
     "data": {
      "image/png": "[encoded data removed]",
      "text/plain": [
       "<Figure size 432x288 with 1 Axes>"
      ]
     },
     "metadata": {},
     "output_type": "display_data"
    }
   ],
   "source": [
    "z['name'].value_counts().head().plot(kind='pie',autopct = '%1.2f%%')"
   ]
  },
  {
   "cell_type": "raw",
   "id": "cb4ac26d",
   "metadata": {},
   "source": [
    "primary observation :\n",
    "Cafes and quick bites restaurant types such as cafe coffee day, keventeers, onesta, mcdonald's seem to be popular with higher frequencies alongwith local restaurant chains such as sgs non veg - gundu pulav right behind them."
   ]
  },
  {
   "cell_type": "markdown",
   "id": "a465a8df",
   "metadata": {},
   "source": [
    "#### 3. How many restaurants do not accept online orders?"
   ]
  },
  {
   "cell_type": "code",
   "execution_count": 21,
   "id": "e3f2c5f7",
   "metadata": {},
   "outputs": [
    {
     "data": {
      "text/plain": [
       "Yes    5943\n",
       "No     4057\n",
       "Name: online_order, dtype: int64"
      ]
     },
     "execution_count": 21,
     "metadata": {},
     "output_type": "execute_result"
    }
   ],
   "source": [
    "z['online_order'].value_counts()"
   ]
  },
  {
   "cell_type": "raw",
   "id": "1c8d2a8d",
   "metadata": {},
   "source": [
    "primary observation :\n",
    "A total of 4057 of the total restaurants do not accept online orders."
   ]
  },
  {
   "cell_type": "markdown",
   "id": "2678ca74",
   "metadata": {},
   "source": [
    "#### 4. What is the ratio b/w restaurants that provide and do not provide table booking?"
   ]
  },
  {
   "cell_type": "code",
   "execution_count": 83,
   "id": "0fd91b6f",
   "metadata": {},
   "outputs": [
    {
     "data": {
      "image/png": "[encoded data removed]",
      "text/plain": [
       "<Figure size 432x288 with 1 Axes>"
      ]
     },
     "metadata": {},
     "output_type": "display_data"
    }
   ],
   "source": [
    "plt.pie(x = z['book_table'].value_counts(),labels=['provide','do not provide'],autopct='%1.2f%%')\n",
    "plt.legend()\n",
    "plt.title('Ratio b/w Restaurants for Table Booking Service')\n",
    "plt.show()\n"
   ]
  },
  {
   "cell_type": "raw",
   "id": "b118770c",
   "metadata": {},
   "source": [
    "primary observation :\n",
    "\n",
    "Around 12.46 % of restaurants do not provide table bookings meanwhile 87.54% do provide the said service."
   ]
  },
  {
   "cell_type": "markdown",
   "id": "2a009e2f",
   "metadata": {},
   "source": [
    "#### 5. Use a boxplot on the rating column. Use User Defined Function or Lambda function or Apply function to extract the data that comes before /. Kindly exclude /."
   ]
  },
  {
   "cell_type": "code",
   "execution_count": 38,
   "id": "eeaf7d60",
   "metadata": {},
   "outputs": [
    {
     "data": {
      "text/plain": [
       "array(['3.2/5', '3.6 /5', '3.7/5', '3.4 /5', 'NEW', '4.2/5', nan,\n",
       "       '3.5 /5', '4.1 /5', '3.4/5', '4.3 /5', '4.5/5', '3.0/5', '3.9/5',\n",
       "       '3.0 /5', '4.0 /5', '4.2 /5', '3.5/5', '2.9 /5', '4.3/5', '4.4 /5',\n",
       "       '3.8/5', '3.6/5', '3.3/5', '3.9 /5', '3.3 /5', '4.7/5', '3.1 /5',\n",
       "       '-', '4.5 /5', '3.2 /5', '3.8 /5', '3.7 /5', '2.5 /5', '4.0/5',\n",
       "       '4.6 /5', '4.1/5', '2.6/5', '3.1/5', '4.4/5', '2.6 /5', '2.7 /5',\n",
       "       '2.9/5', '2.5/5', '2.8/5', '4.6/5', '4.7 /5', '2.8 /5', '4.8 /5',\n",
       "       '4.8/5', '2.7/5', '4.9 /5', '2.2/5', '2.3 /5', '4.9/5', '2.4 /5',\n",
       "       '2.3/5', '2.1 /5', '2.4/5', '2.1/5', '2.2 /5'], dtype=object)"
      ]
     },
     "execution_count": 38,
     "metadata": {},
     "output_type": "execute_result"
    }
   ],
   "source": [
    "z['rate'].unique()"
   ]
  },
  {
   "cell_type": "code",
   "execution_count": 39,
   "id": "5afe6846",
   "metadata": {},
   "outputs": [],
   "source": [
    "z['rate']=z['rate'].replace('NEW',np.nan)\n",
    "z['rate']=z['rate'].replace('NaN',np.nan)\n",
    "z['rate']=z['rate'].replace('-',np.nan)"
   ]
  },
  {
   "cell_type": "code",
   "execution_count": 40,
   "id": "d4022ac8",
   "metadata": {},
   "outputs": [
    {
     "data": {
      "text/plain": [
       "0        3.2\n",
       "1       3.6 \n",
       "2        3.7\n",
       "3       3.4 \n",
       "4        NaN\n",
       "        ... \n",
       "9995     4.9\n",
       "9996    3.3 \n",
       "9997    4.4 \n",
       "9998    3.8 \n",
       "9999     3.7\n",
       "Name: rate, Length: 10000, dtype: object"
      ]
     },
     "execution_count": 40,
     "metadata": {},
     "output_type": "execute_result"
    }
   ],
   "source": [
    "def rem5(value : str):\n",
    "    if type(value)==str:\n",
    "        value_new=value.split('/')[0]\n",
    "        return value_new\n",
    "    return value\n",
    "z['rate']=z['rate'].apply(rem5)\n",
    "z['rate']"
   ]
  },
  {
   "cell_type": "code",
   "execution_count": 41,
   "id": "fb4f2e64",
   "metadata": {},
   "outputs": [
    {
     "data": {
      "text/plain": [
       "0       3.2\n",
       "1       3.6\n",
       "2       3.7\n",
       "3       3.4\n",
       "4       NaN\n",
       "       ... \n",
       "9995    4.9\n",
       "9996    3.3\n",
       "9997    4.4\n",
       "9998    3.8\n",
       "9999    3.7\n",
       "Name: rate, Length: 10000, dtype: float64"
      ]
     },
     "execution_count": 41,
     "metadata": {},
     "output_type": "execute_result"
    }
   ],
   "source": [
    "z['rate']=z['rate'].apply(pd.to_numeric)\n",
    "z['rate']"
   ]
  },
  {
   "cell_type": "code",
   "execution_count": 42,
   "id": "d6116c81",
   "metadata": {},
   "outputs": [
    {
     "data": {
      "text/plain": [
       "<AxesSubplot:xlabel='rate'>"
      ]
     },
     "execution_count": 42,
     "metadata": {},
     "output_type": "execute_result"
    },
    {
     "data": {
      "image/png": "[encoded data removed]",
      "text/plain": [
       "<Figure size 432x288 with 1 Axes>"
      ]
     },
     "metadata": {
      "needs_background": "light"
     },
     "output_type": "display_data"
    }
   ],
   "source": [
    "sns.boxplot(data=z,x='rate')"
   ]
  },
  {
   "cell_type": "raw",
   "id": "4483bece",
   "metadata": {},
   "source": [
    "primary observation :\n",
    "\n",
    "There is a higher concentration of restaurants having ratings between 3.5 to 4."
   ]
  },
  {
   "cell_type": "markdown",
   "id": "18f097a3",
   "metadata": {},
   "source": [
    "#### 6. Online and Offline orders restaurants percentage."
   ]
  },
  {
   "cell_type": "code",
   "execution_count": 27,
   "id": "8d20c6a6",
   "metadata": {},
   "outputs": [
    {
     "data": {
      "text/plain": [
       "<AxesSubplot:ylabel='online_order'>"
      ]
     },
     "execution_count": 27,
     "metadata": {},
     "output_type": "execute_result"
    },
    {
     "data": {
      "image/png": "[encoded data removed]",
      "text/plain": [
       "<Figure size 432x288 with 1 Axes>"
      ]
     },
     "metadata": {},
     "output_type": "display_data"
    }
   ],
   "source": [
    "z['online_order'].value_counts().plot(kind='pie',autopct='%1.1f%%',labels=['online','offline'])"
   ]
  },
  {
   "cell_type": "raw",
   "id": "3e7ec82b",
   "metadata": {},
   "source": [
    "primary observation :\n",
    "\n",
    "It can be observed that around 59.4% of the restaurants in bengaluru provide online order service whereas 40.6% continue having only offline order as an option."
   ]
  },
  {
   "cell_type": "markdown",
   "id": "a39a86f9",
   "metadata": {},
   "source": [
    "#### 7. Plot the scatter plot using the Cost vs rating variable with respect to online order. Use apply the function Or other function to remove the “,”.\n"
   ]
  },
  {
   "cell_type": "code",
   "execution_count": 36,
   "id": "460972bc",
   "metadata": {},
   "outputs": [],
   "source": [
    "def remove_comma(value):\n",
    "    value = str(value)\n",
    "    if ',' in value:\n",
    "        value = value.replace(',','')\n",
    "        return float(value)\n",
    "    else:\n",
    "        return float(value)\n",
    "\n",
    "z['approx_cost(for two people)'] = z['approx_cost(for two people)'].apply(remove_comma)    \n",
    "    "
   ]
  },
  {
   "cell_type": "code",
   "execution_count": 49,
   "id": "712465a0",
   "metadata": {},
   "outputs": [
    {
     "data": {
      "image/png": "[encoded data removed]",
      "text/plain": [
       "<Figure size 720x504 with 1 Axes>"
      ]
     },
     "metadata": {
      "needs_background": "light"
     },
     "output_type": "display_data"
    }
   ],
   "source": [
    "plt.figure(figsize=(10,7))\n",
    "sns.scatterplot(data = z,x=\"rate\",y='approx_cost(for two people)',hue='online_order')\n",
    "plt.show()"
   ]
  },
  {
   "cell_type": "raw",
   "id": "4adc235b",
   "metadata": {},
   "source": [
    "primary observation :\n",
    "\n",
    "While looking at the graph plot, it can be seen that although there are few restaurants that fall on the expensive side as well as do not have online order options, their ratings are still good enough and range between 3.5 to 4.5 .    "
   ]
  },
  {
   "cell_type": "markdown",
   "id": "0fbe8b06",
   "metadata": {},
   "source": [
    "#### 8. Find the distribution of the votes and Approx_cost using a user-defined function and for a loop."
   ]
  },
  {
   "cell_type": "code",
   "execution_count": null,
   "id": "36af9024",
   "metadata": {},
   "outputs": [],
   "source": []
  },
  {
   "cell_type": "code",
   "execution_count": 6,
   "id": "f3228228",
   "metadata": {},
   "outputs": [
    {
     "data": {
      "text/plain": [
       "300      1467\n",
       "400      1244\n",
       "200       926\n",
       "500       925\n",
       "600       724\n",
       "250       580\n",
       "800       428\n",
       "150       403\n",
       "700       393\n",
       "1,000     331\n",
       "350       327\n",
       "450       306\n",
       "1,500     206\n",
       "100       195\n",
       "1,200     181\n",
       "650       162\n",
       "550       157\n",
       "900       143\n",
       "750       137\n",
       "1,300      97\n",
       "1,400      94\n",
       "1,100      90\n",
       "2,000      75\n",
       "1,600      53\n",
       "1,700      48\n",
       "1,800      44\n",
       "850        38\n",
       "3,000      28\n",
       "2,500      26\n",
       "2,200      17\n",
       "1,900      16\n",
       "950        12\n",
       "2,800      10\n",
       "2,100      10\n",
       "2,600       5\n",
       "2,400       4\n",
       "1,350       4\n",
       "180         4\n",
       "3,500       3\n",
       "40          3\n",
       "3,400       3\n",
       "70          3\n",
       "130         2\n",
       "1,050       2\n",
       "1,250       2\n",
       "120         2\n",
       "230         2\n",
       "1,450       1\n",
       "4,100       1\n",
       "2,300       1\n",
       "1,650       1\n",
       "469         1\n",
       "199         1\n",
       "6,000       1\n",
       "4,000       1\n",
       "80          1\n",
       "Name: approx_cost(for two people), dtype: int64"
      ]
     },
     "execution_count": 6,
     "metadata": {},
     "output_type": "execute_result"
    }
   ],
   "source": [
    "z['approx_cost(for two people)'].value_counts()"
   ]
  },
  {
   "cell_type": "code",
   "execution_count": 5,
   "id": "0541fc4e",
   "metadata": {},
   "outputs": [
    {
     "data": {
      "text/plain": [
       "0       1879\n",
       "4        217\n",
       "6        178\n",
       "7        176\n",
       "5        145\n",
       "        ... \n",
       "613        1\n",
       "576        1\n",
       "3628       1\n",
       "3950       1\n",
       "2133       1\n",
       "Name: votes, Length: 1293, dtype: int64"
      ]
     },
     "execution_count": 5,
     "metadata": {},
     "output_type": "execute_result"
    }
   ],
   "source": [
    "z['votes'].value_counts()"
   ]
  },
  {
   "cell_type": "code",
   "execution_count": 9,
   "id": "010161e3",
   "metadata": {},
   "outputs": [
    {
     "data": {
      "image/png": "[encoded data removed]",
      "text/plain": [
       "<Figure size 432x288 with 1 Axes>"
      ]
     },
     "metadata": {
      "needs_background": "light"
     },
     "output_type": "display_data"
    },
    {
     "data": {
      "text/plain": [
       "<Figure size 1440x1440 with 0 Axes>"
      ]
     },
     "metadata": {},
     "output_type": "display_data"
    }
   ],
   "source": [
    "x = z['votes']\n",
    "y = z['approx_cost(for two people)']\n",
    "xpositions = np.arange(len(y))\n",
    "plt.bar(x=xpositions,height=x,width =10)\n",
    "plt.figure(figsize = (20,20))\n",
    "plt.show()\n"
   ]
  },
  {
   "cell_type": "markdown",
   "id": "980f0ada",
   "metadata": {},
   "source": [
    "#### 9. Which are the most common restaurant type in Banglore?"
   ]
  },
  {
   "cell_type": "code",
   "execution_count": 53,
   "id": "78460423",
   "metadata": {},
   "outputs": [
    {
     "data": {
      "text/plain": [
       "<AxesSubplot:>"
      ]
     },
     "execution_count": 53,
     "metadata": {},
     "output_type": "execute_result"
    },
    {
     "data": {
      "image/png": "[encoded data removed]",
      "text/plain": [
       "<Figure size 432x288 with 1 Axes>"
      ]
     },
     "metadata": {
      "needs_background": "light"
     },
     "output_type": "display_data"
    }
   ],
   "source": [
    "z['rest_type'].value_counts().head(5).plot(kind = 'bar')"
   ]
  },
  {
   "cell_type": "raw",
   "id": "4acd05bf",
   "metadata": {},
   "source": [
    "primary observation :\n",
    "\n",
    "Quick bites, Casual dining, Cafe, Delivery and Dessert parlour are the top five common restaurant types in bengaluru. "
   ]
  },
  {
   "cell_type": "markdown",
   "id": "094523a0",
   "metadata": {},
   "source": [
    "#### 10. Is there any difference b/w the votes of restaurants accepting and not accepting online orders?"
   ]
  },
  {
   "cell_type": "code",
   "execution_count": 33,
   "id": "a3bcf8b2",
   "metadata": {},
   "outputs": [
    {
     "data": {
      "text/plain": [
       "<AxesSubplot:ylabel='online_order'>"
      ]
     },
     "execution_count": 33,
     "metadata": {},
     "output_type": "execute_result"
    },
    {
     "data": {
      "image/png": "[encoded data removed]",
      "text/plain": [
       "<Figure size 432x288 with 1 Axes>"
      ]
     },
     "metadata": {},
     "output_type": "display_data"
    }
   ],
   "source": [
    "z.groupby('votes')['online_order'].count().plot(kind = 'pie',autopct = '%1.1f%%')"
   ]
  },
  {
   "cell_type": "code",
   "execution_count": 46,
   "id": "340d5394",
   "metadata": {},
   "outputs": [
    {
     "data": {
      "text/plain": [
       "<AxesSubplot:xlabel='online_order', ylabel='votes'>"
      ]
     },
     "execution_count": 46,
     "metadata": {},
     "output_type": "execute_result"
    },
    {
     "data": {
      "image/png": "[encoded data removed]",
      "text/plain": [
       "<Figure size 432x288 with 1 Axes>"
      ]
     },
     "metadata": {
      "needs_background": "light"
     },
     "output_type": "display_data"
    }
   ],
   "source": [
    "sns.boxplot(x='online_order',y='votes',data=z)"
   ]
  },
  {
   "cell_type": "raw",
   "id": "634040c5",
   "metadata": {},
   "source": [
    "primary observation :\n",
    "\n"
   ]
  },
  {
   "cell_type": "markdown",
   "id": "df90e74e",
   "metadata": {},
   "source": [
    "#### 11. Find the Best budget Restaurants in any location."
   ]
  },
  {
   "cell_type": "code",
   "execution_count": 22,
   "id": "c7cc23f5",
   "metadata": {},
   "outputs": [
    {
     "data": {
      "text/plain": [
       "approx_cost(for two people)\n",
       "300      223\n",
       "400      122\n",
       "200      117\n",
       "500      111\n",
       "250       86\n",
       "600       74\n",
       "350       38\n",
       "150       35\n",
       "700       32\n",
       "450       22\n",
       "800       13\n",
       "650       13\n",
       "100       13\n",
       "1,000     11\n",
       "550       10\n",
       "900        9\n",
       "1,100      4\n",
       "1,600      4\n",
       "1,500      4\n",
       "1,200      4\n",
       "70         3\n",
       "750        3\n",
       "850        3\n",
       "230        2\n",
       "130        2\n",
       "1,300      1\n",
       "dtype: int64"
      ]
     },
     "execution_count": 22,
     "metadata": {},
     "output_type": "execute_result"
    }
   ],
   "source": [
    "z[z['location']=='BTM'].value_counts('approx_cost(for two people)')"
   ]
  },
  {
   "cell_type": "code",
   "execution_count": 51,
   "id": "1260d69e",
   "metadata": {},
   "outputs": [
    {
     "data": {
      "text/html": [
       "<div>\n",
       "<style scoped>\n",
       "    .dataframe tbody tr th:only-of-type {\n",
       "        vertical-align: middle;\n",
       "    }\n",
       "\n",
       "    .dataframe tbody tr th {\n",
       "        vertical-align: top;\n",
       "    }\n",
       "\n",
       "    .dataframe thead th {\n",
       "        text-align: right;\n",
       "    }\n",
       "</style>\n",
       "<table border=\"1\" class=\"dataframe\">\n",
       "  <thead>\n",
       "    <tr style=\"text-align: right;\">\n",
       "      <th></th>\n",
       "      <th>approx_cost(for two people)</th>\n",
       "      <th>name</th>\n",
       "      <th>rate</th>\n",
       "    </tr>\n",
       "    <tr>\n",
       "      <th>location</th>\n",
       "      <th></th>\n",
       "      <th></th>\n",
       "      <th></th>\n",
       "    </tr>\n",
       "  </thead>\n",
       "  <tbody>\n",
       "    <tr>\n",
       "      <th>BTM</th>\n",
       "      <td>70.0</td>\n",
       "      <td>100ÃÂÃÂÃÂÃÂÃÂÃÂÃÂÃÂ°C</td>\n",
       "      <td>2.5</td>\n",
       "    </tr>\n",
       "    <tr>\n",
       "      <th>Banashankari</th>\n",
       "      <td>100.0</td>\n",
       "      <td>1947</td>\n",
       "      <td>2.7</td>\n",
       "    </tr>\n",
       "    <tr>\n",
       "      <th>Banaswadi</th>\n",
       "      <td>100.0</td>\n",
       "      <td>7 Spice</td>\n",
       "      <td>2.3</td>\n",
       "    </tr>\n",
       "    <tr>\n",
       "      <th>Bannerghatta Road</th>\n",
       "      <td>100.0</td>\n",
       "      <td>#refuel</td>\n",
       "      <td>2.3</td>\n",
       "    </tr>\n",
       "    <tr>\n",
       "      <th>Basavanagudi</th>\n",
       "      <td>100.0</td>\n",
       "      <td>Aadhya Hotel</td>\n",
       "      <td>2.5</td>\n",
       "    </tr>\n",
       "    <tr>\n",
       "      <th>Basaveshwara Nagar</th>\n",
       "      <td>100.0</td>\n",
       "      <td>Bakers77</td>\n",
       "      <td>2.9</td>\n",
       "    </tr>\n",
       "    <tr>\n",
       "      <th>Bellandur</th>\n",
       "      <td>100.0</td>\n",
       "      <td>38 Sugar Lane</td>\n",
       "      <td>2.1</td>\n",
       "    </tr>\n",
       "    <tr>\n",
       "      <th>Bommanahalli</th>\n",
       "      <td>100.0</td>\n",
       "      <td>Abhiruchi Moonlight</td>\n",
       "      <td>2.3</td>\n",
       "    </tr>\n",
       "    <tr>\n",
       "      <th>Brigade Road</th>\n",
       "      <td>100.0</td>\n",
       "      <td>Aaha Andhra</td>\n",
       "      <td>2.8</td>\n",
       "    </tr>\n",
       "    <tr>\n",
       "      <th>Brookefield</th>\n",
       "      <td>100.0</td>\n",
       "      <td>99 Caffe</td>\n",
       "      <td>2.6</td>\n",
       "    </tr>\n",
       "  </tbody>\n",
       "</table>\n",
       "</div>"
      ],
      "text/plain": [
       "                    approx_cost(for two people)  \\\n",
       "location                                          \n",
       "BTM                                        70.0   \n",
       "Banashankari                              100.0   \n",
       "Banaswadi                                 100.0   \n",
       "Bannerghatta Road                         100.0   \n",
       "Basavanagudi                              100.0   \n",
       "Basaveshwara Nagar                        100.0   \n",
       "Bellandur                                 100.0   \n",
       "Bommanahalli                              100.0   \n",
       "Brigade Road                              100.0   \n",
       "Brookefield                               100.0   \n",
       "\n",
       "                                                    name  rate  \n",
       "location                                                        \n",
       "BTM                 100ÃÂÃÂÃÂÃÂÃÂÃÂÃÂÃÂ°C   2.5  \n",
       "Banashankari                                        1947   2.7  \n",
       "Banaswadi                                        7 Spice   2.3  \n",
       "Bannerghatta Road                                #refuel   2.3  \n",
       "Basavanagudi                                Aadhya Hotel   2.5  \n",
       "Basaveshwara Nagar                              Bakers77   2.9  \n",
       "Bellandur                                  38 Sugar Lane   2.1  \n",
       "Bommanahalli                         Abhiruchi Moonlight   2.3  \n",
       "Brigade Road                                 Aaha Andhra   2.8  \n",
       "Brookefield                                     99 Caffe   2.6  "
      ]
     },
     "execution_count": 51,
     "metadata": {},
     "output_type": "execute_result"
    }
   ],
   "source": [
    "z.pivot_table(index='location',values=['approx_cost(for two people)','rate','name'],aggfunc='min').head(10)"
   ]
  },
  {
   "cell_type": "code",
   "execution_count": null,
   "id": "301cdef3",
   "metadata": {},
   "outputs": [],
   "source": []
  },
  {
   "cell_type": "code",
   "execution_count": null,
   "id": "034364fe",
   "metadata": {},
   "outputs": [],
   "source": []
  },
  {
   "cell_type": "markdown",
   "id": "0d1537e7",
   "metadata": {},
   "source": [
    "#### 12. Top quick bites restaurant chains in Banglore."
   ]
  },
  {
   "cell_type": "code",
   "execution_count": 134,
   "id": "1ecca24a",
   "metadata": {},
   "outputs": [
    {
     "data": {
      "text/html": [
       "<div>\n",
       "<style scoped>\n",
       "    .dataframe tbody tr th:only-of-type {\n",
       "        vertical-align: middle;\n",
       "    }\n",
       "\n",
       "    .dataframe tbody tr th {\n",
       "        vertical-align: top;\n",
       "    }\n",
       "\n",
       "    .dataframe thead th {\n",
       "        text-align: right;\n",
       "    }\n",
       "</style>\n",
       "<table border=\"1\" class=\"dataframe\">\n",
       "  <thead>\n",
       "    <tr style=\"text-align: right;\">\n",
       "      <th></th>\n",
       "      <th>Unnamed: 0</th>\n",
       "      <th>url</th>\n",
       "      <th>address</th>\n",
       "      <th>name</th>\n",
       "      <th>online_order</th>\n",
       "      <th>book_table</th>\n",
       "      <th>rate</th>\n",
       "      <th>votes</th>\n",
       "      <th>phone</th>\n",
       "      <th>location</th>\n",
       "      <th>rest_type</th>\n",
       "      <th>dish_liked</th>\n",
       "      <th>cuisines</th>\n",
       "      <th>approx_cost(for two people)</th>\n",
       "      <th>reviews_list</th>\n",
       "      <th>menu_item</th>\n",
       "      <th>listed_in(type)</th>\n",
       "      <th>listed_in(city)</th>\n",
       "    </tr>\n",
       "  </thead>\n",
       "  <tbody>\n",
       "    <tr>\n",
       "      <th>5605</th>\n",
       "      <td>39518</td>\n",
       "      <td>https://www.zomato.com/bangalore/ctr-malleshwa...</td>\n",
       "      <td>7th Cross, Margosa Road, Malleshwaram, Bangalore</td>\n",
       "      <td>CTR</td>\n",
       "      <td>Yes</td>\n",
       "      <td>No</td>\n",
       "      <td>4.7</td>\n",
       "      <td>4408</td>\n",
       "      <td>080 23317531</td>\n",
       "      <td>Malleshwaram</td>\n",
       "      <td>Quick Bites</td>\n",
       "      <td>Benne Masala Dosa, Filter Coffee, Chai, Butter...</td>\n",
       "      <td>South Indian</td>\n",
       "      <td>150.0</td>\n",
       "      <td>[('Rated 5.0', 'RATED\\n  On a mission to find ...</td>\n",
       "      <td>[]</td>\n",
       "      <td>Delivery</td>\n",
       "      <td>Malleshwaram</td>\n",
       "    </tr>\n",
       "    <tr>\n",
       "      <th>8775</th>\n",
       "      <td>46436</td>\n",
       "      <td>https://www.zomato.com/bangalore/veena-stores-...</td>\n",
       "      <td>187, 15th Cross, Margosa Road, Malleshwaram, B...</td>\n",
       "      <td>Veena Stores</td>\n",
       "      <td>Yes</td>\n",
       "      <td>No</td>\n",
       "      <td>4.5</td>\n",
       "      <td>2416</td>\n",
       "      <td>080 23344838</td>\n",
       "      <td>Malleshwaram</td>\n",
       "      <td>Quick Bites</td>\n",
       "      <td>Kesari Bath, Idli Vada, Sweet Pongal, Filter C...</td>\n",
       "      <td>South Indian</td>\n",
       "      <td>150.0</td>\n",
       "      <td>[('Rated 4.0', 'RATED\\n  This is a legendary o...</td>\n",
       "      <td>[]</td>\n",
       "      <td>Delivery</td>\n",
       "      <td>Rajajinagar</td>\n",
       "    </tr>\n",
       "    <tr>\n",
       "      <th>8290</th>\n",
       "      <td>32321</td>\n",
       "      <td>https://www.zomato.com/bangalore/taco-bell-kor...</td>\n",
       "      <td>2/3, 80 Feet Road, Sony World Signal, Opposite...</td>\n",
       "      <td>Taco Bell</td>\n",
       "      <td>Yes</td>\n",
       "      <td>No</td>\n",
       "      <td>4.1</td>\n",
       "      <td>1963</td>\n",
       "      <td>+91 8088933838\\r\\n+91 9731183188</td>\n",
       "      <td>Koramangala 6th Block</td>\n",
       "      <td>Quick Bites</td>\n",
       "      <td>Tacos, Nachos, Potato Pops, Potato Burrito, Fi...</td>\n",
       "      <td>Mexican, American, Fast Food</td>\n",
       "      <td>600.0</td>\n",
       "      <td>[('Rated 4.0', \"RATED\\n  Lovely place. Good me...</td>\n",
       "      <td>[]</td>\n",
       "      <td>Delivery</td>\n",
       "      <td>Koramangala 6th Block</td>\n",
       "    </tr>\n",
       "    <tr>\n",
       "      <th>1749</th>\n",
       "      <td>8444</td>\n",
       "      <td>https://www.zomato.com/bangalore/taco-bell-kor...</td>\n",
       "      <td>2/3, 80 Feet Road, Sony World Signal, Opposite...</td>\n",
       "      <td>Taco Bell</td>\n",
       "      <td>Yes</td>\n",
       "      <td>No</td>\n",
       "      <td>4.1</td>\n",
       "      <td>1959</td>\n",
       "      <td>+91 8088933838\\r\\r\\n+91 9731183188</td>\n",
       "      <td>Koramangala 6th Block</td>\n",
       "      <td>Quick Bites</td>\n",
       "      <td>Tacos, Nachos, Potato Pops, Potato Burrito, Fi...</td>\n",
       "      <td>Mexican, American, Fast Food</td>\n",
       "      <td>600.0</td>\n",
       "      <td>[('Rated 4.0', 'RATED\\n  Food: 4/5\\nCost: 4/5\\...</td>\n",
       "      <td>[]</td>\n",
       "      <td>Delivery</td>\n",
       "      <td>BTM</td>\n",
       "    </tr>\n",
       "    <tr>\n",
       "      <th>7216</th>\n",
       "      <td>20137</td>\n",
       "      <td>https://www.zomato.com/bangalore/maiyas-jayana...</td>\n",
       "      <td>459/30, 30th Cross, 4th Block, Jayanagar, Bang...</td>\n",
       "      <td>Maiyas</td>\n",
       "      <td>Yes</td>\n",
       "      <td>No</td>\n",
       "      <td>4.0</td>\n",
       "      <td>1782</td>\n",
       "      <td>+91 9632411352</td>\n",
       "      <td>Jayanagar</td>\n",
       "      <td>Quick Bites</td>\n",
       "      <td>Coffee, Thali, Kharabath, Masala Dosa, Idli Va...</td>\n",
       "      <td>North Indian, South Indian, Fast Food, Juices</td>\n",
       "      <td>200.0</td>\n",
       "      <td>[('Rated 1.0', 'RATED\\n  We were here on a sun...</td>\n",
       "      <td>[' Bisibele Bath', ' Pav Bhaji', ' Badam Halwa...</td>\n",
       "      <td>Delivery</td>\n",
       "      <td>Jayanagar</td>\n",
       "    </tr>\n",
       "    <tr>\n",
       "      <th>182</th>\n",
       "      <td>20865</td>\n",
       "      <td>https://www.zomato.com/bangalore/maiyas-jayana...</td>\n",
       "      <td>459/30, 30th Cross, 4th Block, Jayanagar, Bang...</td>\n",
       "      <td>Maiyas</td>\n",
       "      <td>Yes</td>\n",
       "      <td>No</td>\n",
       "      <td>4.0</td>\n",
       "      <td>1782</td>\n",
       "      <td>+91 9632411352</td>\n",
       "      <td>Jayanagar</td>\n",
       "      <td>Quick Bites</td>\n",
       "      <td>Coffee, Thali, Kharabath, Masala Dosa, Idli Va...</td>\n",
       "      <td>North Indian, South Indian, Fast Food, Juices</td>\n",
       "      <td>200.0</td>\n",
       "      <td>[('Rated 1.0', 'RATED\\n  We were here on a sun...</td>\n",
       "      <td>[' Bisibele Bath', ' Pav Bhaji', ' Limited Mea...</td>\n",
       "      <td>Desserts</td>\n",
       "      <td>Jayanagar</td>\n",
       "    </tr>\n",
       "    <tr>\n",
       "      <th>231</th>\n",
       "      <td>65</td>\n",
       "      <td>https://www.zomato.com/bangalore/kabab-magic-b...</td>\n",
       "      <td>31, Opposite Vijaya College, RV Road, Basavana...</td>\n",
       "      <td>Kabab Magic</td>\n",
       "      <td>Yes</td>\n",
       "      <td>No</td>\n",
       "      <td>4.1</td>\n",
       "      <td>1720</td>\n",
       "      <td>080 26570381</td>\n",
       "      <td>Basavanagudi</td>\n",
       "      <td>Quick Bites</td>\n",
       "      <td>Grape Juice, Chicken Grill, Chicken Tikka Roll...</td>\n",
       "      <td>North Indian, Kebab, Chinese, Fast Food</td>\n",
       "      <td>400.0</td>\n",
       "      <td>[('Rated 4.0', 'RATED\\n  BEST SHAWARMA EVER!\\n...</td>\n",
       "      <td>[]</td>\n",
       "      <td>Delivery</td>\n",
       "      <td>Banashankari</td>\n",
       "    </tr>\n",
       "    <tr>\n",
       "      <th>5968</th>\n",
       "      <td>30922</td>\n",
       "      <td>https://www.zomato.com/bangalore/eat-street-ko...</td>\n",
       "      <td>11, 80 Feet Road, Opposite Indian Oil Petrol P...</td>\n",
       "      <td>Eat Street</td>\n",
       "      <td>No</td>\n",
       "      <td>No</td>\n",
       "      <td>4.2</td>\n",
       "      <td>1534</td>\n",
       "      <td>080 42296566</td>\n",
       "      <td>Koramangala 6th Block</td>\n",
       "      <td>Quick Bites</td>\n",
       "      <td>Lassi, Nachos, Mojito, Roti, Panipuri, Pizza, ...</td>\n",
       "      <td>North Indian, Chinese, Italian, Street Food, D...</td>\n",
       "      <td>600.0</td>\n",
       "      <td>[('Rated 4.0', 'RATED\\n  Eat Street is a food ...</td>\n",
       "      <td>[]</td>\n",
       "      <td>Desserts</td>\n",
       "      <td>Koramangala 5th Block</td>\n",
       "    </tr>\n",
       "    <tr>\n",
       "      <th>3523</th>\n",
       "      <td>32652</td>\n",
       "      <td>https://www.zomato.com/bangalore/eat-street-ko...</td>\n",
       "      <td>11, 80 Feet Road, Opposite Indian Oil Petrol P...</td>\n",
       "      <td>Eat Street</td>\n",
       "      <td>No</td>\n",
       "      <td>No</td>\n",
       "      <td>4.2</td>\n",
       "      <td>1534</td>\n",
       "      <td>080 42296566</td>\n",
       "      <td>Koramangala 6th Block</td>\n",
       "      <td>Quick Bites</td>\n",
       "      <td>Lassi, Nachos, Mojito, Roti, Panipuri, Pizza, ...</td>\n",
       "      <td>North Indian, Chinese, Italian, Street Food, D...</td>\n",
       "      <td>600.0</td>\n",
       "      <td>[('Rated 4.0', 'RATED\\n  Eat Street is a food ...</td>\n",
       "      <td>[]</td>\n",
       "      <td>Delivery</td>\n",
       "      <td>Koramangala 6th Block</td>\n",
       "    </tr>\n",
       "    <tr>\n",
       "      <th>1983</th>\n",
       "      <td>28152</td>\n",
       "      <td>https://www.zomato.com/bangalore/eat-street-ko...</td>\n",
       "      <td>11, 80 Feet Road, Opposite Indian Oil Petrol P...</td>\n",
       "      <td>Eat Street</td>\n",
       "      <td>No</td>\n",
       "      <td>No</td>\n",
       "      <td>4.2</td>\n",
       "      <td>1531</td>\n",
       "      <td>080 42296566</td>\n",
       "      <td>Koramangala 6th Block</td>\n",
       "      <td>Quick Bites</td>\n",
       "      <td>Lassi, Nachos, Mojito, Roti, Panipuri, Pizza, ...</td>\n",
       "      <td>North Indian, Chinese, Italian, Street Food, D...</td>\n",
       "      <td>600.0</td>\n",
       "      <td>[('Rated 4.0', 'RATED\\n  Eat Street is a food ...</td>\n",
       "      <td>[]</td>\n",
       "      <td>Desserts</td>\n",
       "      <td>Koramangala 4th Block</td>\n",
       "    </tr>\n",
       "  </tbody>\n",
       "</table>\n",
       "</div>"
      ],
      "text/plain": [
       "      Unnamed: 0                                                url  \\\n",
       "5605       39518  https://www.zomato.com/bangalore/ctr-malleshwa...   \n",
       "8775       46436  https://www.zomato.com/bangalore/veena-stores-...   \n",
       "8290       32321  https://www.zomato.com/bangalore/taco-bell-kor...   \n",
       "1749        8444  https://www.zomato.com/bangalore/taco-bell-kor...   \n",
       "7216       20137  https://www.zomato.com/bangalore/maiyas-jayana...   \n",
       "182        20865  https://www.zomato.com/bangalore/maiyas-jayana...   \n",
       "231           65  https://www.zomato.com/bangalore/kabab-magic-b...   \n",
       "5968       30922  https://www.zomato.com/bangalore/eat-street-ko...   \n",
       "3523       32652  https://www.zomato.com/bangalore/eat-street-ko...   \n",
       "1983       28152  https://www.zomato.com/bangalore/eat-street-ko...   \n",
       "\n",
       "                                                address          name  \\\n",
       "5605   7th Cross, Margosa Road, Malleshwaram, Bangalore           CTR   \n",
       "8775  187, 15th Cross, Margosa Road, Malleshwaram, B...  Veena Stores   \n",
       "8290  2/3, 80 Feet Road, Sony World Signal, Opposite...     Taco Bell   \n",
       "1749  2/3, 80 Feet Road, Sony World Signal, Opposite...     Taco Bell   \n",
       "7216  459/30, 30th Cross, 4th Block, Jayanagar, Bang...        Maiyas   \n",
       "182   459/30, 30th Cross, 4th Block, Jayanagar, Bang...        Maiyas   \n",
       "231   31, Opposite Vijaya College, RV Road, Basavana...   Kabab Magic   \n",
       "5968  11, 80 Feet Road, Opposite Indian Oil Petrol P...    Eat Street   \n",
       "3523  11, 80 Feet Road, Opposite Indian Oil Petrol P...    Eat Street   \n",
       "1983  11, 80 Feet Road, Opposite Indian Oil Petrol P...    Eat Street   \n",
       "\n",
       "     online_order book_table  rate  votes                               phone  \\\n",
       "5605          Yes         No   4.7   4408                        080 23317531   \n",
       "8775          Yes         No   4.5   2416                        080 23344838   \n",
       "8290          Yes         No   4.1   1963    +91 8088933838\\r\\n+91 9731183188   \n",
       "1749          Yes         No   4.1   1959  +91 8088933838\\r\\r\\n+91 9731183188   \n",
       "7216          Yes         No   4.0   1782                      +91 9632411352   \n",
       "182           Yes         No   4.0   1782                      +91 9632411352   \n",
       "231           Yes         No   4.1   1720                        080 26570381   \n",
       "5968           No         No   4.2   1534                        080 42296566   \n",
       "3523           No         No   4.2   1534                        080 42296566   \n",
       "1983           No         No   4.2   1531                        080 42296566   \n",
       "\n",
       "                   location    rest_type  \\\n",
       "5605           Malleshwaram  Quick Bites   \n",
       "8775           Malleshwaram  Quick Bites   \n",
       "8290  Koramangala 6th Block  Quick Bites   \n",
       "1749  Koramangala 6th Block  Quick Bites   \n",
       "7216              Jayanagar  Quick Bites   \n",
       "182               Jayanagar  Quick Bites   \n",
       "231            Basavanagudi  Quick Bites   \n",
       "5968  Koramangala 6th Block  Quick Bites   \n",
       "3523  Koramangala 6th Block  Quick Bites   \n",
       "1983  Koramangala 6th Block  Quick Bites   \n",
       "\n",
       "                                             dish_liked  \\\n",
       "5605  Benne Masala Dosa, Filter Coffee, Chai, Butter...   \n",
       "8775  Kesari Bath, Idli Vada, Sweet Pongal, Filter C...   \n",
       "8290  Tacos, Nachos, Potato Pops, Potato Burrito, Fi...   \n",
       "1749  Tacos, Nachos, Potato Pops, Potato Burrito, Fi...   \n",
       "7216  Coffee, Thali, Kharabath, Masala Dosa, Idli Va...   \n",
       "182   Coffee, Thali, Kharabath, Masala Dosa, Idli Va...   \n",
       "231   Grape Juice, Chicken Grill, Chicken Tikka Roll...   \n",
       "5968  Lassi, Nachos, Mojito, Roti, Panipuri, Pizza, ...   \n",
       "3523  Lassi, Nachos, Mojito, Roti, Panipuri, Pizza, ...   \n",
       "1983  Lassi, Nachos, Mojito, Roti, Panipuri, Pizza, ...   \n",
       "\n",
       "                                               cuisines  \\\n",
       "5605                                       South Indian   \n",
       "8775                                       South Indian   \n",
       "8290                       Mexican, American, Fast Food   \n",
       "1749                       Mexican, American, Fast Food   \n",
       "7216      North Indian, South Indian, Fast Food, Juices   \n",
       "182       North Indian, South Indian, Fast Food, Juices   \n",
       "231             North Indian, Kebab, Chinese, Fast Food   \n",
       "5968  North Indian, Chinese, Italian, Street Food, D...   \n",
       "3523  North Indian, Chinese, Italian, Street Food, D...   \n",
       "1983  North Indian, Chinese, Italian, Street Food, D...   \n",
       "\n",
       "      approx_cost(for two people)  \\\n",
       "5605                        150.0   \n",
       "8775                        150.0   \n",
       "8290                        600.0   \n",
       "1749                        600.0   \n",
       "7216                        200.0   \n",
       "182                         200.0   \n",
       "231                         400.0   \n",
       "5968                        600.0   \n",
       "3523                        600.0   \n",
       "1983                        600.0   \n",
       "\n",
       "                                           reviews_list  \\\n",
       "5605  [('Rated 5.0', 'RATED\\n  On a mission to find ...   \n",
       "8775  [('Rated 4.0', 'RATED\\n  This is a legendary o...   \n",
       "8290  [('Rated 4.0', \"RATED\\n  Lovely place. Good me...   \n",
       "1749  [('Rated 4.0', 'RATED\\n  Food: 4/5\\nCost: 4/5\\...   \n",
       "7216  [('Rated 1.0', 'RATED\\n  We were here on a sun...   \n",
       "182   [('Rated 1.0', 'RATED\\n  We were here on a sun...   \n",
       "231   [('Rated 4.0', 'RATED\\n  BEST SHAWARMA EVER!\\n...   \n",
       "5968  [('Rated 4.0', 'RATED\\n  Eat Street is a food ...   \n",
       "3523  [('Rated 4.0', 'RATED\\n  Eat Street is a food ...   \n",
       "1983  [('Rated 4.0', 'RATED\\n  Eat Street is a food ...   \n",
       "\n",
       "                                              menu_item listed_in(type)  \\\n",
       "5605                                                 []        Delivery   \n",
       "8775                                                 []        Delivery   \n",
       "8290                                                 []        Delivery   \n",
       "1749                                                 []        Delivery   \n",
       "7216  [' Bisibele Bath', ' Pav Bhaji', ' Badam Halwa...        Delivery   \n",
       "182   [' Bisibele Bath', ' Pav Bhaji', ' Limited Mea...        Desserts   \n",
       "231                                                  []        Delivery   \n",
       "5968                                                 []        Desserts   \n",
       "3523                                                 []        Delivery   \n",
       "1983                                                 []        Desserts   \n",
       "\n",
       "            listed_in(city)  \n",
       "5605           Malleshwaram  \n",
       "8775            Rajajinagar  \n",
       "8290  Koramangala 6th Block  \n",
       "1749                    BTM  \n",
       "7216              Jayanagar  \n",
       "182               Jayanagar  \n",
       "231            Banashankari  \n",
       "5968  Koramangala 5th Block  \n",
       "3523  Koramangala 6th Block  \n",
       "1983  Koramangala 4th Block  "
      ]
     },
     "execution_count": 134,
     "metadata": {},
     "output_type": "execute_result"
    }
   ],
   "source": [
    "[z['rest_type']=='Quick Bites'].sort_values('votes',ascending = False)[:10]"
   ]
  },
  {
   "cell_type": "raw",
   "id": "5698b5b2",
   "metadata": {},
   "source": [
    "primary observation :\n",
    "\n",
    "CTR, Taco bell, Maiyas, Kabab magic and the Eat Street food stores are the most popular quick bites restaurant based on their votes.  "
   ]
  },
  {
   "cell_type": "markdown",
   "id": "ad953c48",
   "metadata": {},
   "source": [
    "#### 13. Which are the most popular casual dining restaurant chains, Make use of any plot related to this question?"
   ]
  },
  {
   "cell_type": "code",
   "execution_count": 135,
   "id": "9f9ce20e",
   "metadata": {},
   "outputs": [
    {
     "data": {
      "text/html": [
       "<div>\n",
       "<style scoped>\n",
       "    .dataframe tbody tr th:only-of-type {\n",
       "        vertical-align: middle;\n",
       "    }\n",
       "\n",
       "    .dataframe tbody tr th {\n",
       "        vertical-align: top;\n",
       "    }\n",
       "\n",
       "    .dataframe thead th {\n",
       "        text-align: right;\n",
       "    }\n",
       "</style>\n",
       "<table border=\"1\" class=\"dataframe\">\n",
       "  <thead>\n",
       "    <tr style=\"text-align: right;\">\n",
       "      <th></th>\n",
       "      <th>Unnamed: 0</th>\n",
       "      <th>url</th>\n",
       "      <th>address</th>\n",
       "      <th>name</th>\n",
       "      <th>online_order</th>\n",
       "      <th>book_table</th>\n",
       "      <th>rate</th>\n",
       "      <th>votes</th>\n",
       "      <th>phone</th>\n",
       "      <th>location</th>\n",
       "      <th>rest_type</th>\n",
       "      <th>dish_liked</th>\n",
       "      <th>cuisines</th>\n",
       "      <th>approx_cost(for two people)</th>\n",
       "      <th>reviews_list</th>\n",
       "      <th>menu_item</th>\n",
       "      <th>listed_in(type)</th>\n",
       "      <th>listed_in(city)</th>\n",
       "    </tr>\n",
       "  </thead>\n",
       "  <tbody>\n",
       "    <tr>\n",
       "      <th>5878</th>\n",
       "      <td>33948</td>\n",
       "      <td>https://www.zomato.com/bangalore/meghana-foods...</td>\n",
       "      <td>124, Near Jyothi Nivas College, 1st Cross, KHB...</td>\n",
       "      <td>Meghana Foods</td>\n",
       "      <td>Yes</td>\n",
       "      <td>No</td>\n",
       "      <td>4.4</td>\n",
       "      <td>7238</td>\n",
       "      <td>080 49653429</td>\n",
       "      <td>Koramangala 5th Block</td>\n",
       "      <td>Casual Dining</td>\n",
       "      <td>Chicken Boneless Biryani, Egg Curry, Andhra Bi...</td>\n",
       "      <td>Biryani, Seafood, Andhra, North Indian</td>\n",
       "      <td>600.0</td>\n",
       "      <td>[('Rated 5.0', 'RATED\\n  This is one of the be...</td>\n",
       "      <td>[]</td>\n",
       "      <td>Dine-out</td>\n",
       "      <td>Koramangala 6th Block</td>\n",
       "    </tr>\n",
       "    <tr>\n",
       "      <th>1435</th>\n",
       "      <td>17524</td>\n",
       "      <td>https://www.zomato.com/bangalore/barbeque-nati...</td>\n",
       "      <td>4005, HAL 2nd Stage, 100 Feet Road, Indiranaga...</td>\n",
       "      <td>Barbeque Nation</td>\n",
       "      <td>No</td>\n",
       "      <td>Yes</td>\n",
       "      <td>4.7</td>\n",
       "      <td>7152</td>\n",
       "      <td>+91 8064806060</td>\n",
       "      <td>Indiranagar</td>\n",
       "      <td>Casual Dining</td>\n",
       "      <td>Mutton Curry, Tender Coconut Payasam, Mutton S...</td>\n",
       "      <td>North Indian, European, Mediterranean, BBQ, Kebab</td>\n",
       "      <td>1600.0</td>\n",
       "      <td>[('Rated 5.0', \"RATED\\n  Have to say that the ...</td>\n",
       "      <td>[]</td>\n",
       "      <td>Buffet</td>\n",
       "      <td>Indiranagar</td>\n",
       "    </tr>\n",
       "    <tr>\n",
       "      <th>5596</th>\n",
       "      <td>8284</td>\n",
       "      <td>https://www.zomato.com/bangalore/empire-restau...</td>\n",
       "      <td>103, Industrial Area, 5th Block, Near Jyothi N...</td>\n",
       "      <td>Empire Restaurant</td>\n",
       "      <td>Yes</td>\n",
       "      <td>No</td>\n",
       "      <td>4.1</td>\n",
       "      <td>6875</td>\n",
       "      <td>080 45128675</td>\n",
       "      <td>Koramangala 5th Block</td>\n",
       "      <td>Casual Dining</td>\n",
       "      <td>Brain Fry, Non Veg Thali, Peri Peri Chicken, E...</td>\n",
       "      <td>North Indian, Mughlai, South Indian, Chinese</td>\n",
       "      <td>750.0</td>\n",
       "      <td>[('Rated 5.0', 'RATED\\n  Empire does it again....</td>\n",
       "      <td>[]</td>\n",
       "      <td>Buffet</td>\n",
       "      <td>BTM</td>\n",
       "    </tr>\n",
       "    <tr>\n",
       "      <th>6436</th>\n",
       "      <td>37099</td>\n",
       "      <td>https://www.zomato.com/bangalore/abs-absolute-...</td>\n",
       "      <td>100 Feet Road, 1st Phase, Near Jayadeva Flyove...</td>\n",
       "      <td>AB's - Absolute Barbecues</td>\n",
       "      <td>No</td>\n",
       "      <td>Yes</td>\n",
       "      <td>4.9</td>\n",
       "      <td>6490</td>\n",
       "      <td>040 45659912</td>\n",
       "      <td>BTM</td>\n",
       "      <td>Casual Dining</td>\n",
       "      <td>Tangdi Chicken, Bbq Buffet, Chocolate Icecream...</td>\n",
       "      <td>European, Mediterranean, North Indian, BBQ</td>\n",
       "      <td>1600.0</td>\n",
       "      <td>[('Rated 5.0', 'RATED\\n  Thapush and Rahul ser...</td>\n",
       "      <td>[]</td>\n",
       "      <td>Dine-out</td>\n",
       "      <td>Koramangala 7th Block</td>\n",
       "    </tr>\n",
       "    <tr>\n",
       "      <th>5184</th>\n",
       "      <td>21279</td>\n",
       "      <td>https://www.zomato.com/bangalore/abs-absolute-...</td>\n",
       "      <td>100 Feet Road, 1st Phase, Near Jayadeva Flyove...</td>\n",
       "      <td>AB's - Absolute Barbecues</td>\n",
       "      <td>No</td>\n",
       "      <td>Yes</td>\n",
       "      <td>4.9</td>\n",
       "      <td>6452</td>\n",
       "      <td>040 45659912</td>\n",
       "      <td>BTM</td>\n",
       "      <td>Casual Dining</td>\n",
       "      <td>Tangdi Chicken, Bbq Buffet, Chocolate Icecream...</td>\n",
       "      <td>European, Mediterranean, North Indian, BBQ</td>\n",
       "      <td>1600.0</td>\n",
       "      <td>[('Rated 5.0', 'RATED\\n  Undoubtedly the best ...</td>\n",
       "      <td>[]</td>\n",
       "      <td>Dine-out</td>\n",
       "      <td>Jayanagar</td>\n",
       "    </tr>\n",
       "    <tr>\n",
       "      <th>2145</th>\n",
       "      <td>8260</td>\n",
       "      <td>https://www.zomato.com/bangalore/abs-absolute-...</td>\n",
       "      <td>100 Feet Road, 1st Phase, Near Jayadeva Flyove...</td>\n",
       "      <td>AB's - Absolute Barbecues</td>\n",
       "      <td>No</td>\n",
       "      <td>Yes</td>\n",
       "      <td>4.9</td>\n",
       "      <td>6375</td>\n",
       "      <td>040 45659912</td>\n",
       "      <td>BTM</td>\n",
       "      <td>Casual Dining</td>\n",
       "      <td>Tangdi Chicken, Bbq Buffet, Chocolate Icecream...</td>\n",
       "      <td>European, Mediterranean, North Indian, BBQ</td>\n",
       "      <td>1600.0</td>\n",
       "      <td>[('Rated 5.0', 'RATED\\n  We liked the place a ...</td>\n",
       "      <td>[]</td>\n",
       "      <td>Buffet</td>\n",
       "      <td>BTM</td>\n",
       "    </tr>\n",
       "    <tr>\n",
       "      <th>8160</th>\n",
       "      <td>44920</td>\n",
       "      <td>https://www.zomato.com/SmokeHouseDeli-Indirana...</td>\n",
       "      <td>1209, 100 Feet Road, Opposite Apollo Clinic, I...</td>\n",
       "      <td>Smoke House Deli</td>\n",
       "      <td>Yes</td>\n",
       "      <td>Yes</td>\n",
       "      <td>4.6</td>\n",
       "      <td>5446</td>\n",
       "      <td>080 25200898\\n080 25200899</td>\n",
       "      <td>Indiranagar</td>\n",
       "      <td>Casual Dining</td>\n",
       "      <td>Cappuccino, Pasta, Cucumber Spritzer, Cocktail...</td>\n",
       "      <td>European, Italian, Desserts, Salad, Juices, Steak</td>\n",
       "      <td>1600.0</td>\n",
       "      <td>[('Rated 4.0', 'RATED\\n  Great food loved the ...</td>\n",
       "      <td>['A Bowl of Freshly Cut Fruits', 'Chocolate Ch...</td>\n",
       "      <td>Delivery</td>\n",
       "      <td>Old Airport Road</td>\n",
       "    </tr>\n",
       "    <tr>\n",
       "      <th>306</th>\n",
       "      <td>21059</td>\n",
       "      <td>https://www.zomato.com/bangalore/empire-restau...</td>\n",
       "      <td>4, Opposite NMKRV College, 21st C Cross Road, ...</td>\n",
       "      <td>Empire Restaurant</td>\n",
       "      <td>Yes</td>\n",
       "      <td>No</td>\n",
       "      <td>4.4</td>\n",
       "      <td>4912</td>\n",
       "      <td>080 49653266</td>\n",
       "      <td>Jayanagar</td>\n",
       "      <td>Casual Dining</td>\n",
       "      <td>Chicken Tikka Masala, Mutton Keema Dosa, Mutto...</td>\n",
       "      <td>North Indian, Mughlai, South Indian, Chinese</td>\n",
       "      <td>750.0</td>\n",
       "      <td>[('Rated 4.0', 'RATED\\n  Empire as usual. A bi...</td>\n",
       "      <td>['Empire Box 2', 'Empire Box 3', 'Empire Box 4...</td>\n",
       "      <td>Dine-out</td>\n",
       "      <td>Jayanagar</td>\n",
       "    </tr>\n",
       "    <tr>\n",
       "      <th>976</th>\n",
       "      <td>36687</td>\n",
       "      <td>https://www.zomato.com/bangalore/chianti-koram...</td>\n",
       "      <td>12, 17th Main, 1st Cross, 5th A Block, Koraman...</td>\n",
       "      <td>Chianti</td>\n",
       "      <td>No</td>\n",
       "      <td>Yes</td>\n",
       "      <td>4.7</td>\n",
       "      <td>4872</td>\n",
       "      <td>080 41132021\\n080 41132024</td>\n",
       "      <td>Koramangala 5th Block</td>\n",
       "      <td>Casual Dining</td>\n",
       "      <td>Pasta, Tiramisu, Wine, Barbeque Chicken Pizza,...</td>\n",
       "      <td>Italian</td>\n",
       "      <td>1500.0</td>\n",
       "      <td>[('Rated 5.0', 'RATED\\n  Food 5/5\\nService 5/5...</td>\n",
       "      <td>[]</td>\n",
       "      <td>Dine-out</td>\n",
       "      <td>Koramangala 7th Block</td>\n",
       "    </tr>\n",
       "    <tr>\n",
       "      <th>4659</th>\n",
       "      <td>47424</td>\n",
       "      <td>https://www.zomato.com/bangalore/chutney-chang...</td>\n",
       "      <td>HM Eleganza, 31, Museum Road, Off MG Road, Chu...</td>\n",
       "      <td>Chutney Chang</td>\n",
       "      <td>Yes</td>\n",
       "      <td>Yes</td>\n",
       "      <td>4.2</td>\n",
       "      <td>4752</td>\n",
       "      <td>080 40001234\\n+91 9008001193</td>\n",
       "      <td>Church Street</td>\n",
       "      <td>Casual Dining</td>\n",
       "      <td>Chaat, Chocolate Wonton, Apple Pie, Raj Kachor...</td>\n",
       "      <td>North Indian, Chinese, BBQ</td>\n",
       "      <td>1500.0</td>\n",
       "      <td>[('Rated 5.0', 'RATED\\n  The best Chinese food...</td>\n",
       "      <td>['Veg Executive Meal', 'Non Veg Executive Meal...</td>\n",
       "      <td>Delivery</td>\n",
       "      <td>Residency Road</td>\n",
       "    </tr>\n",
       "  </tbody>\n",
       "</table>\n",
       "</div>"
      ],
      "text/plain": [
       "      Unnamed: 0                                                url  \\\n",
       "5878       33948  https://www.zomato.com/bangalore/meghana-foods...   \n",
       "1435       17524  https://www.zomato.com/bangalore/barbeque-nati...   \n",
       "5596        8284  https://www.zomato.com/bangalore/empire-restau...   \n",
       "6436       37099  https://www.zomato.com/bangalore/abs-absolute-...   \n",
       "5184       21279  https://www.zomato.com/bangalore/abs-absolute-...   \n",
       "2145        8260  https://www.zomato.com/bangalore/abs-absolute-...   \n",
       "8160       44920  https://www.zomato.com/SmokeHouseDeli-Indirana...   \n",
       "306        21059  https://www.zomato.com/bangalore/empire-restau...   \n",
       "976        36687  https://www.zomato.com/bangalore/chianti-koram...   \n",
       "4659       47424  https://www.zomato.com/bangalore/chutney-chang...   \n",
       "\n",
       "                                                address  \\\n",
       "5878  124, Near Jyothi Nivas College, 1st Cross, KHB...   \n",
       "1435  4005, HAL 2nd Stage, 100 Feet Road, Indiranaga...   \n",
       "5596  103, Industrial Area, 5th Block, Near Jyothi N...   \n",
       "6436  100 Feet Road, 1st Phase, Near Jayadeva Flyove...   \n",
       "5184  100 Feet Road, 1st Phase, Near Jayadeva Flyove...   \n",
       "2145  100 Feet Road, 1st Phase, Near Jayadeva Flyove...   \n",
       "8160  1209, 100 Feet Road, Opposite Apollo Clinic, I...   \n",
       "306   4, Opposite NMKRV College, 21st C Cross Road, ...   \n",
       "976   12, 17th Main, 1st Cross, 5th A Block, Koraman...   \n",
       "4659  HM Eleganza, 31, Museum Road, Off MG Road, Chu...   \n",
       "\n",
       "                           name online_order book_table  rate  votes  \\\n",
       "5878              Meghana Foods          Yes         No   4.4   7238   \n",
       "1435            Barbeque Nation           No        Yes   4.7   7152   \n",
       "5596          Empire Restaurant          Yes         No   4.1   6875   \n",
       "6436  AB's - Absolute Barbecues           No        Yes   4.9   6490   \n",
       "5184  AB's - Absolute Barbecues           No        Yes   4.9   6452   \n",
       "2145  AB's - Absolute Barbecues           No        Yes   4.9   6375   \n",
       "8160           Smoke House Deli          Yes        Yes   4.6   5446   \n",
       "306           Empire Restaurant          Yes         No   4.4   4912   \n",
       "976                     Chianti           No        Yes   4.7   4872   \n",
       "4659              Chutney Chang          Yes        Yes   4.2   4752   \n",
       "\n",
       "                             phone               location      rest_type  \\\n",
       "5878                  080 49653429  Koramangala 5th Block  Casual Dining   \n",
       "1435                +91 8064806060            Indiranagar  Casual Dining   \n",
       "5596                  080 45128675  Koramangala 5th Block  Casual Dining   \n",
       "6436                  040 45659912                    BTM  Casual Dining   \n",
       "5184                  040 45659912                    BTM  Casual Dining   \n",
       "2145                  040 45659912                    BTM  Casual Dining   \n",
       "8160    080 25200898\\n080 25200899            Indiranagar  Casual Dining   \n",
       "306                   080 49653266              Jayanagar  Casual Dining   \n",
       "976     080 41132021\\n080 41132024  Koramangala 5th Block  Casual Dining   \n",
       "4659  080 40001234\\n+91 9008001193          Church Street  Casual Dining   \n",
       "\n",
       "                                             dish_liked  \\\n",
       "5878  Chicken Boneless Biryani, Egg Curry, Andhra Bi...   \n",
       "1435  Mutton Curry, Tender Coconut Payasam, Mutton S...   \n",
       "5596  Brain Fry, Non Veg Thali, Peri Peri Chicken, E...   \n",
       "6436  Tangdi Chicken, Bbq Buffet, Chocolate Icecream...   \n",
       "5184  Tangdi Chicken, Bbq Buffet, Chocolate Icecream...   \n",
       "2145  Tangdi Chicken, Bbq Buffet, Chocolate Icecream...   \n",
       "8160  Cappuccino, Pasta, Cucumber Spritzer, Cocktail...   \n",
       "306   Chicken Tikka Masala, Mutton Keema Dosa, Mutto...   \n",
       "976   Pasta, Tiramisu, Wine, Barbeque Chicken Pizza,...   \n",
       "4659  Chaat, Chocolate Wonton, Apple Pie, Raj Kachor...   \n",
       "\n",
       "                                               cuisines  \\\n",
       "5878             Biryani, Seafood, Andhra, North Indian   \n",
       "1435  North Indian, European, Mediterranean, BBQ, Kebab   \n",
       "5596       North Indian, Mughlai, South Indian, Chinese   \n",
       "6436         European, Mediterranean, North Indian, BBQ   \n",
       "5184         European, Mediterranean, North Indian, BBQ   \n",
       "2145         European, Mediterranean, North Indian, BBQ   \n",
       "8160  European, Italian, Desserts, Salad, Juices, Steak   \n",
       "306        North Indian, Mughlai, South Indian, Chinese   \n",
       "976                                             Italian   \n",
       "4659                         North Indian, Chinese, BBQ   \n",
       "\n",
       "      approx_cost(for two people)  \\\n",
       "5878                        600.0   \n",
       "1435                       1600.0   \n",
       "5596                        750.0   \n",
       "6436                       1600.0   \n",
       "5184                       1600.0   \n",
       "2145                       1600.0   \n",
       "8160                       1600.0   \n",
       "306                         750.0   \n",
       "976                        1500.0   \n",
       "4659                       1500.0   \n",
       "\n",
       "                                           reviews_list  \\\n",
       "5878  [('Rated 5.0', 'RATED\\n  This is one of the be...   \n",
       "1435  [('Rated 5.0', \"RATED\\n  Have to say that the ...   \n",
       "5596  [('Rated 5.0', 'RATED\\n  Empire does it again....   \n",
       "6436  [('Rated 5.0', 'RATED\\n  Thapush and Rahul ser...   \n",
       "5184  [('Rated 5.0', 'RATED\\n  Undoubtedly the best ...   \n",
       "2145  [('Rated 5.0', 'RATED\\n  We liked the place a ...   \n",
       "8160  [('Rated 4.0', 'RATED\\n  Great food loved the ...   \n",
       "306   [('Rated 4.0', 'RATED\\n  Empire as usual. A bi...   \n",
       "976   [('Rated 5.0', 'RATED\\n  Food 5/5\\nService 5/5...   \n",
       "4659  [('Rated 5.0', 'RATED\\n  The best Chinese food...   \n",
       "\n",
       "                                              menu_item listed_in(type)  \\\n",
       "5878                                                 []        Dine-out   \n",
       "1435                                                 []          Buffet   \n",
       "5596                                                 []          Buffet   \n",
       "6436                                                 []        Dine-out   \n",
       "5184                                                 []        Dine-out   \n",
       "2145                                                 []          Buffet   \n",
       "8160  ['A Bowl of Freshly Cut Fruits', 'Chocolate Ch...        Delivery   \n",
       "306   ['Empire Box 2', 'Empire Box 3', 'Empire Box 4...        Dine-out   \n",
       "976                                                  []        Dine-out   \n",
       "4659  ['Veg Executive Meal', 'Non Veg Executive Meal...        Delivery   \n",
       "\n",
       "            listed_in(city)  \n",
       "5878  Koramangala 6th Block  \n",
       "1435            Indiranagar  \n",
       "5596                    BTM  \n",
       "6436  Koramangala 7th Block  \n",
       "5184              Jayanagar  \n",
       "2145                    BTM  \n",
       "8160       Old Airport Road  \n",
       "306               Jayanagar  \n",
       "976   Koramangala 7th Block  \n",
       "4659         Residency Road  "
      ]
     },
     "execution_count": 135,
     "metadata": {},
     "output_type": "execute_result"
    }
   ],
   "source": [
    "z[z['rest_type']=='Casual Dining'].sort_values('votes',ascending = False)[:10]"
   ]
  },
  {
   "cell_type": "code",
   "execution_count": 137,
   "id": "a3b8e1be",
   "metadata": {},
   "outputs": [],
   "source": [
    "x = z[z['rest_type']=='Casual Dining'][:10]\n"
   ]
  },
  {
   "cell_type": "markdown",
   "id": "ade8c995",
   "metadata": {},
   "source": [
    "#### 14. Which are the most popular cuisines of Bangalore using a related plot."
   ]
  },
  {
   "cell_type": "code",
   "execution_count": 96,
   "id": "26dcb7ec",
   "metadata": {},
   "outputs": [
    {
     "data": {
      "text/plain": [
       "<seaborn.axisgrid.FacetGrid at 0x7fcb9879ff70>"
      ]
     },
     "execution_count": 96,
     "metadata": {},
     "output_type": "execute_result"
    },
    {
     "data": {
      "image/png": "[encoded data removed]",
      "text/plain": [
       "<Figure size 360x360 with 1 Axes>"
      ]
     },
     "metadata": {
      "needs_background": "light"
     },
     "output_type": "display_data"
    }
   ],
   "source": [
    "cuisines = z['cuisines'].value_counts()[:11]\n",
    "sns.relplot(x=cuisines,y=cuisines.index,palette = ('set1',10))"
   ]
  },
  {
   "cell_type": "raw",
   "id": "0e16aaad",
   "metadata": {},
   "source": [
    "primary observation :\n",
    "\n",
    "North indian, Chinese, South Indian, Bakery/Desserts, Biryani seem to be a popular cuisine among the foodies of bengaluru."
   ]
  },
  {
   "cell_type": "code",
   "execution_count": 48,
   "id": "1bf8ae0b",
   "metadata": {},
   "outputs": [
    {
     "data": {
      "text/plain": [
       "Text(0.5, 1.0, 'Most popular cuisines of Bangalore')"
      ]
     },
     "execution_count": 48,
     "metadata": {},
     "output_type": "execute_result"
    },
    {
     "data": {
      "image/png": "[encoded data removed]",
      "text/plain": [
       "<Figure size 432x288 with 1 Axes>"
      ]
     },
     "metadata": {
      "needs_background": "light"
     },
     "output_type": "display_data"
    }
   ],
   "source": [
    "cuisines=z['cuisines'].value_counts()[:10]\n",
    "sns.barplot(x=cuisines,y=cuisines.index)\n",
    "plt.xlabel('Count')\n",
    "plt.title(\"Most popular cuisines of Bangalore\")"
   ]
  },
  {
   "cell_type": "markdown",
   "id": "3ac30730",
   "metadata": {},
   "source": [
    "#### Location with highest concentration of restaurants"
   ]
  },
  {
   "cell_type": "code",
   "execution_count": 52,
   "id": "b85ee9e9",
   "metadata": {},
   "outputs": [
    {
     "data": {
      "text/plain": [
       "<AxesSubplot:xlabel='location'>"
      ]
     },
     "execution_count": 52,
     "metadata": {},
     "output_type": "execute_result"
    },
    {
     "data": {
      "image/png": "[encoded data removed]",
      "text/plain": [
       "<Figure size 720x504 with 1 Axes>"
      ]
     },
     "metadata": {
      "needs_background": "light"
     },
     "output_type": "display_data"
    }
   ],
   "source": [
    "plt.figure(figsize=(10,7))\n",
    "Restaurant_locations=z['location'].value_counts()[:10]\n",
    "sns.barplot(x=Restaurant_locations,y=Restaurant_locations.index)\n"
   ]
  },
  {
   "cell_type": "markdown",
   "id": "371029a3",
   "metadata": {},
   "source": [
    "####  What are kind of Restaurants with higher meal cost?"
   ]
  },
  {
   "cell_type": "code",
   "execution_count": 55,
   "id": "83c7fc7f",
   "metadata": {},
   "outputs": [
    {
     "data": {
      "image/png": "[encoded data removed]",
      "text/plain": [
       "<Figure size 576x360 with 1 Axes>"
      ]
     },
     "metadata": {
      "needs_background": "light"
     },
     "output_type": "display_data"
    }
   ],
   "source": [
    "plt.figure(figsize=(8,5))\n",
    "z[z['approx_cost(for two people)'] > 3000]['name'].value_counts(ascending=True).plot.barh();\n"
   ]
  },
  {
   "cell_type": "code",
   "execution_count": null,
   "id": "994a961b",
   "metadata": {},
   "outputs": [],
   "source": []
  }
 ],
 "metadata": {
  "kernelspec": {
   "display_name": "Python 3 (ipykernel)",
   "language": "python",
   "name": "python3"
  },
  "language_info": {
   "codemirror_mode": {
    "name": "ipython",
    "version": 3
   },
   "file_extension": ".py",
   "mimetype": "text/x-python",
   "name": "python",
   "nbconvert_exporter": "python",
   "pygments_lexer": "ipython3",
   "version": "3.9.12"
  }
 },
 "nbformat": 4,
 "nbformat_minor": 5
}
